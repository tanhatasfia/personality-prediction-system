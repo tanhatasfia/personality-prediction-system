{
  "cells": [
    {
      "cell_type": "code",
      "execution_count": null,
      "metadata": {
        "id": "RITsaJhdIfPy"
      },
      "outputs": [],
      "source": [
        "%pip install catboost\n",
        "%pip install pandas\n",
        "%pip install numpy\n",
        "%pip install matplotlib"
      ]
    },
    {
      "cell_type": "code",
      "execution_count": null,
      "metadata": {
        "id": "wNb7KDL7IsYJ"
      },
      "outputs": [],
      "source": [
        "import pandas as pd\n",
        "\n",
        "# importing dataset\n",
        "df = pd.read_csv(\"16P.csv\",encoding=\"cp1252\")\n",
        "train_data=df.drop(columns={'Response Id'})\n"
      ]
    },
    {
      "cell_type": "code",
      "execution_count": null,
      "metadata": {
        "id": "Qkydde9in8J0"
      },
      "outputs": [],
      "source": [
        "pip install pycaret"
      ]
    },
    {
      "cell_type": "code",
      "execution_count": null,
      "metadata": {
        "id": "Pa6Q0nYAokUs"
      },
      "outputs": [],
      "source": [
        "from sklearn.preprocessing import StandardScaler\n",
        "X=train_data.drop(columns=\"Personality\")\n",
        "y=train_data[\"Personality\"]"
      ]
    },
    {
      "cell_type": "code",
      "execution_count": null,
      "metadata": {
        "id": "koB4x2euoqUm"
      },
      "outputs": [],
      "source": [
        "X = StandardScaler().fit_transform(X)\n",
        "from sklearn.decomposition import PCA\n",
        "pca = PCA(n_components=21)"
      ]
    },
    {
      "cell_type": "code",
      "execution_count": null,
      "metadata": {
        "id": "2cU0JScipgW-"
      },
      "outputs": [],
      "source": [
        "principalComponents = pca.fit_transform(X)"
      ]
    },
    {
      "cell_type": "code",
      "execution_count": null,
      "metadata": {
        "id": "_ye17Y0dqRLf"
      },
      "outputs": [],
      "source": [
        "principalDf = pd.DataFrame(data = principalComponents\n",
        "             , columns = ['pc1', 'pc2','pc3','pc4','pc5','pc6','pc7','pc8','pc9','pc10','pc11','pc12','pc13','pc14','pc15','pc16','pc17','pc18','pc19','pc20','pc21'] )\n",
        "finalDf = pd.concat([principalDf, train_data[['Personality']]], axis = 1)"
      ]
    },
    {
      "cell_type": "code",
      "execution_count": null,
      "metadata": {
        "id": "i-MRFa5nEjhY"
      },
      "outputs": [],
      "source": []
    },
    {
      "cell_type": "code",
      "execution_count": null,
      "metadata": {
        "id": "l-sc06zvqXrb"
      },
      "outputs": [],
      "source": [
        "from sklearn.preprocessing import LabelEncoder\n",
        "le=LabelEncoder()\n",
        "le.fit(finalDf['Personality'])\n",
        "finalDf['Personality']=le.transform(finalDf['Personality'])"
      ]
    },
    {
      "cell_type": "code",
      "execution_count": null,
      "metadata": {
        "id": "l1YzKltBqdMC"
      },
      "outputs": [],
      "source": []
    },
    {
      "cell_type": "code",
      "execution_count": null,
      "metadata": {
        "id": "5YJugRi3JENj"
      },
      "outputs": [],
      "source": [
        "dataset.head()"
      ]
    },
    {
      "cell_type": "code",
      "execution_count": null,
      "metadata": {
        "id": "LV3Gg8awJcbr"
      },
      "outputs": [],
      "source": [
        "dataset.corr()"
      ]
    },
    {
      "cell_type": "code",
      "execution_count": null,
      "metadata": {
        "id": "RQZM_i94Jgsz"
      },
      "outputs": [],
      "source": [
        "import seaborn as sns\n",
        "import matplotlib.pyplot as plt\n"
      ]
    },
    {
      "cell_type": "code",
      "execution_count": null,
      "metadata": {
        "id": "72sRpX-HJm77"
      },
      "outputs": [],
      "source": [
        "columns = dataset.columns\n",
        "\n",
        "# storing the input and output variables\n",
        "X = dataset[columns[0:-1]]\n",
        "y = dataset[columns[-1]]"
      ]
    },
    {
      "cell_type": "code",
      "execution_count": null,
      "metadata": {
        "id": "ba591R2Yq41R"
      },
      "outputs": [],
      "source": [
        "from sklearn.model_selection import train_test_split"
      ]
    },
    {
      "cell_type": "code",
      "execution_count": null,
      "metadata": {
        "id": "mafZGFuvqxpK"
      },
      "outputs": [],
      "source": [
        "X_train, X_test, y_train, y_test = train_test_split(\n",
        "        finalDf.drop(columns=\"Personality\"), finalDf[\"Personality\"], test_size=0.2\n",
        "    )"
      ]
    },
    {
      "cell_type": "code",
      "execution_count": null,
      "metadata": {
        "id": "93Iw-MEz8w70"
      },
      "outputs": [],
      "source": [
        "X_train"
      ]
    },
    {
      "cell_type": "code",
      "execution_count": null,
      "metadata": {
        "id": "ucFZKkJAHi0U"
      },
      "outputs": [],
      "source": [
        "finalDf"
      ]
    },
    {
      "cell_type": "code",
      "execution_count": null,
      "metadata": {
        "id": "MG-dajfdz-De"
      },
      "outputs": [],
      "source": [
        "cat_features =  finalDf.column_names"
      ]
    },
    {
      "cell_type": "code",
      "execution_count": null,
      "metadata": {
        "colab": {
          "base_uri": "https://localhost:8080/"
        },
        "id": "BGlGqExF1Ofh",
        "outputId": "2564285d-1d3f-4a22-9462-ef739831f286"
      },
      "outputs": [
        {
          "data": {
            "text/plain": [
              "('pc1', 'pc2')"
            ]
          },
          "execution_count": 17,
          "metadata": {},
          "output_type": "execute_result"
        }
      ],
      "source": [
        "cat_features "
      ]
    },
    {
      "cell_type": "code",
      "execution_count": null,
      "metadata": {
        "colab": {
          "base_uri": "https://localhost:8080/",
          "height": 34,
          "referenced_widgets": [
            "f01f330350924c2885373174c9d0ad9a"
          ]
        },
        "id": "sSlxj50d0R2d",
        "outputId": "ebe75b53-6855-40b2-ac02-888a91ab6883"
      },
      "outputs": [
        {
          "output_type": "display_data",
          "data": {
            "text/plain": [
              "MetricVisualizer(layout=Layout(align_self='stretch', height='500px'))"
            ],
            "application/vnd.jupyter.widget-view+json": {
              "version_major": 2,
              "version_minor": 0,
              "model_id": "f01f330350924c2885373174c9d0ad9a"
            }
          },
          "metadata": {}
        },
        {
          "output_type": "execute_result",
          "data": {
            "text/plain": [
              "<catboost.core.CatBoostClassifier at 0x7f0869f5d8b0>"
            ]
          },
          "metadata": {},
          "execution_count": 13
        }
      ],
      "source": [
        "from catboost import CatBoostClassifier\n",
        "\n",
        "clf = CatBoostClassifier(\n",
        "    iterations=50,\n",
        "    random_seed=42,\n",
        "    learning_rate=0.5,\n",
        "    custom_loss=['AUC', 'Accuracy']\n",
        ")\n",
        "\n",
        "clf.fit(\n",
        "    X_train, y_train,\n",
        " \n",
        "    eval_set=(X_test, y_test),\n",
        "    verbose=False,\n",
        "    plot=True\n",
        ")"
      ]
    },
    {
      "cell_type": "code",
      "execution_count": null,
      "metadata": {
        "id": "7J6_EXi0JpaL"
      },
      "outputs": [],
      "source": [
        "\n",
        "\n",
        "# assign test data size 25%\n",
        "X_train, X_test, y_train, y_test =train_test_split(X,y,test_size= 0.33, random_state=7)"
      ]
    },
    {
      "cell_type": "code",
      "source": [
        "from sklearn.metrics import accuracy_score\n",
        "from sklearn.metrics import precision_score\n",
        "from sklearn.metrics import recall_score\n",
        "from sklearn.metrics import f1_score"
      ],
      "metadata": {
        "id": "MrE4wveTt4yf"
      },
      "execution_count": null,
      "outputs": []
    },
    {
      "cell_type": "code",
      "execution_count": null,
      "metadata": {
        "id": "GG_y3Zw2LRQ9"
      },
      "outputs": [],
      "source": [
        "cbr_prediction = clf.predict(X_test)\n",
        "  "
      ]
    },
    {
      "cell_type": "code",
      "execution_count": null,
      "metadata": {
        "id": "PSwNcLfxLiR9"
      },
      "outputs": [],
      "source": [
        "\n",
        "predictions = [value for value in cbr_prediction]\n",
        " \n",
        "# evaluate predictions\n"
      ]
    },
    {
      "cell_type": "code",
      "execution_count": null,
      "metadata": {
        "colab": {
          "base_uri": "https://localhost:8080/"
        },
        "id": "x6ih0Z7CL1ms",
        "outputId": "aec435f5-9b99-45c9-a310-4f644d191168"
      },
      "outputs": [
        {
          "output_type": "stream",
          "name": "stdout",
          "text": [
            "Accuracy: 92.58%\n"
          ]
        }
      ],
      "source": [
        "accuracy = accuracy_score(y_test, predictions)\n",
        "print(\"Accuracy: %.2f%%\" % (accuracy * 100.0))"
      ]
    },
    {
      "cell_type": "code",
      "source": [
        "precision = precision_score(y_test, predictions, average='micro')\n",
        "print('Precision: %f' % precision)\n",
        "recall = recall_score(y_test, predictions, average='micro')\n",
        "print('Recall: %f' % recall)\n",
        "\n",
        "f1 = f1_score(y_test, predictions, average='micro')\n",
        "print('F1 score: %f' % f1)"
      ],
      "metadata": {
        "colab": {
          "base_uri": "https://localhost:8080/"
        },
        "id": "UUPV08dfvgT9",
        "outputId": "b87d2e2f-2752-4ed6-9b73-e4ea33c02000"
      },
      "execution_count": null,
      "outputs": [
        {
          "output_type": "stream",
          "name": "stdout",
          "text": [
            "Precision: 0.925750\n",
            "Recall: 0.925750\n",
            "F1 score: 0.925750\n"
          ]
        }
      ]
    },
    {
      "cell_type": "code",
      "execution_count": null,
      "metadata": {
        "id": "ApJVCJiqMIiN"
      },
      "outputs": [],
      "source": [
        "from numpy import loadtxt\n",
        "from xgboost import XGBClassifier"
      ]
    },
    {
      "cell_type": "code",
      "execution_count": null,
      "metadata": {
        "id": "__WK9nizMPZH"
      },
      "outputs": [],
      "source": [
        "seed = 7\n",
        "test_size = 0.25\n",
        "X_train, X_test, y_train, y_test = train_test_split(X, y, test_size=test_size, random_state=seed)"
      ]
    },
    {
      "cell_type": "code",
      "execution_count": null,
      "metadata": {
        "colab": {
          "base_uri": "https://localhost:8080/"
        },
        "id": "TsFxN2tNM_1-",
        "outputId": "9c8d8393-d65a-4819-f6c8-0a2542a0e977"
      },
      "outputs": [
        {
          "output_type": "execute_result",
          "data": {
            "text/plain": [
              "XGBClassifier(objective='multi:softprob')"
            ]
          },
          "metadata": {},
          "execution_count": 30
        }
      ],
      "source": [
        "model = XGBClassifier()\n",
        "model.fit(X_train, y_train)"
      ]
    },
    {
      "cell_type": "code",
      "execution_count": null,
      "metadata": {
        "id": "_bxQLNXuNw4W"
      },
      "outputs": [],
      "source": [
        "# make predictions for test data\n",
        "y_pred = model.predict(X_test)\n",
        "predictions = [value for value in y_pred]"
      ]
    },
    {
      "cell_type": "code",
      "execution_count": null,
      "metadata": {
        "colab": {
          "base_uri": "https://localhost:8080/"
        },
        "id": "EtttmW6xNCHl",
        "outputId": "cfeff374-375b-41cd-f889-12de827c15f4"
      },
      "outputs": [
        {
          "output_type": "stream",
          "name": "stdout",
          "text": [
            "Accuracy: 90.84%\n"
          ]
        }
      ],
      "source": [
        "accuracy = accuracy_score(y_test, predictions)\n",
        "print(\"Accuracy: %.2f%%\" % (accuracy * 100.0))\n"
      ]
    },
    {
      "cell_type": "code",
      "source": [
        "precision = precision_score(y_test, predictions, average='micro')\n",
        "print('Precision: %f' % precision)\n",
        "recall = recall_score(y_test, predictions, average='micro')\n",
        "print('Recall: %f' % recall)\n",
        "\n",
        "f1 = f1_score(y_test, predictions, average='micro')\n",
        "print('F1 score: %f' % f1)"
      ],
      "metadata": {
        "colab": {
          "base_uri": "https://localhost:8080/"
        },
        "id": "KRnHSv0UxDzn",
        "outputId": "dd6c147f-6f39-45b7-8280-829910147ea5"
      },
      "execution_count": null,
      "outputs": [
        {
          "output_type": "stream",
          "name": "stdout",
          "text": [
            "Precision: 0.908434\n",
            "Recall: 0.908434\n",
            "F1 score: 0.908434\n"
          ]
        }
      ]
    },
    {
      "cell_type": "code",
      "source": [
        "X_train, X_test, y_train, y_test = train_test_split(\n",
        "        finalDf.drop(columns=\"Personality\"), finalDf[\"Personality\"], test_size= 0.25, random_state=0\n",
        "    )"
      ],
      "metadata": {
        "id": "uVEviNjNyHgl"
      },
      "execution_count": null,
      "outputs": []
    },
    {
      "cell_type": "code",
      "source": [
        "st_x= StandardScaler()  \n",
        "x_train= st_x.fit_transform(X_train)    \n",
        "x_test= st_x.transform(X_test)   "
      ],
      "metadata": {
        "id": "2q5iAtjnxLjn"
      },
      "execution_count": null,
      "outputs": []
    },
    {
      "cell_type": "code",
      "source": [
        "from sklearn.tree import DecisionTreeClassifier\n",
        "DT = DecisionTreeClassifier()\n",
        "DT.fit(X_train, y_train)"
      ],
      "metadata": {
        "colab": {
          "base_uri": "https://localhost:8080/"
        },
        "id": "jg2CNBX9xmtG",
        "outputId": "8b4c80cb-6301-4414-b653-317b325dd57f"
      },
      "execution_count": null,
      "outputs": [
        {
          "output_type": "execute_result",
          "data": {
            "text/plain": [
              "DecisionTreeClassifier()"
            ]
          },
          "metadata": {},
          "execution_count": 22
        }
      ]
    },
    {
      "cell_type": "code",
      "source": [
        "DT.predict(X_test)\n",
        "DT.score(X_test,y_test)"
      ],
      "metadata": {
        "colab": {
          "base_uri": "https://localhost:8080/"
        },
        "id": "bq18RHIFxpwb",
        "outputId": "b6c6e947-847b-40c8-c497-bc0663f12c4c"
      },
      "execution_count": null,
      "outputs": [
        {
          "output_type": "execute_result",
          "data": {
            "text/plain": [
              "0.7768"
            ]
          },
          "metadata": {},
          "execution_count": 23
        }
      ]
    },
    {
      "cell_type": "code",
      "source": [
        "precision = precision_score(y_test, predictions, average='micro')\n",
        "print('Precision: %f' % precision)\n",
        "recall = recall_score(y_test, predictions, average='micro')\n",
        "print('Recall: %f' % recall)\n",
        "\n",
        "f1 = f1_score(y_test, predictions, average='micro')\n",
        "print('F1 score: %f' % f1)"
      ],
      "metadata": {
        "colab": {
          "base_uri": "https://localhost:8080/"
        },
        "id": "hL4Vr8HdKsZS",
        "outputId": "b3036a1c-8840-4488-9e01-359bb2ffc54d"
      },
      "execution_count": null,
      "outputs": [
        {
          "output_type": "stream",
          "name": "stdout",
          "text": [
            "Precision: 0.776800\n",
            "Recall: 0.776800\n",
            "F1 score: 0.776800\n"
          ]
        }
      ]
    },
    {
      "cell_type": "code",
      "source": [
        "y_pred=DT.predict(X_test)\n",
        "predictions = [value for value in y_pred]"
      ],
      "metadata": {
        "id": "4KTE8sSizpHr"
      },
      "execution_count": null,
      "outputs": []
    },
    {
      "cell_type": "code",
      "source": [
        "accuracy = accuracy_score(y_test, predictions)\n",
        "print(\"Accuracy: %.2f%%\" % (accuracy * 100.0))"
      ],
      "metadata": {
        "id": "vlWyBkTeztjB",
        "outputId": "3f1463fa-8d58-4bf0-941c-792b19aeb4de",
        "colab": {
          "base_uri": "https://localhost:8080/"
        }
      },
      "execution_count": null,
      "outputs": [
        {
          "output_type": "stream",
          "name": "stdout",
          "text": [
            "Accuracy: 79.46%\n"
          ]
        }
      ]
    },
    {
      "cell_type": "code",
      "source": [
        "from sklearn.ensemble import RandomForestClassifier  \n",
        "classifier= RandomForestClassifier()  \n",
        "classifier.fit(X_train, y_train)  "
      ],
      "metadata": {
        "colab": {
          "base_uri": "https://localhost:8080/"
        },
        "id": "PnkzN_1jyV83",
        "outputId": "4eb4a5ab-c292-4a3c-8c40-75fb451b848f"
      },
      "execution_count": null,
      "outputs": [
        {
          "output_type": "execute_result",
          "data": {
            "text/plain": [
              "RandomForestClassifier()"
            ]
          },
          "metadata": {},
          "execution_count": 47
        }
      ]
    },
    {
      "cell_type": "code",
      "source": [
        "classifier.predict(X_test)\n",
        "classifier.score(X_test,y_test)"
      ],
      "metadata": {
        "colab": {
          "base_uri": "https://localhost:8080/"
        },
        "id": "_iepGWLGyYv9",
        "outputId": "8bbaa317-b57b-4441-8dd7-586339bbba77"
      },
      "execution_count": null,
      "outputs": [
        {
          "output_type": "execute_result",
          "data": {
            "text/plain": [
              "0.9454666666666667"
            ]
          },
          "metadata": {},
          "execution_count": 48
        }
      ]
    },
    {
      "cell_type": "code",
      "source": [
        "y_pred = classifier.predict(X_test)\n",
        "predictions = [value for value in y_pred]"
      ],
      "metadata": {
        "id": "58lkkeOnzE7N"
      },
      "execution_count": null,
      "outputs": []
    },
    {
      "cell_type": "code",
      "source": [
        "accuracy = accuracy_score(y_test, predictions)\n",
        "print(\"Accuracy: %.2f%%\" % (accuracy * 100.0))"
      ],
      "metadata": {
        "colab": {
          "base_uri": "https://localhost:8080/"
        },
        "id": "MkntXQMwzLxS",
        "outputId": "2eb1c50c-bdbe-4f24-9376-e44be16c8872"
      },
      "execution_count": null,
      "outputs": [
        {
          "output_type": "stream",
          "name": "stdout",
          "text": [
            "Accuracy: 94.55%\n"
          ]
        }
      ]
    },
    {
      "cell_type": "code",
      "source": [
        "precision = precision_score(y_test, predictions, average='micro')\n",
        "print('Precision: %f' % precision)\n",
        "recall = recall_score(y_test, predictions, average='micro')\n",
        "print('Recall: %f' % recall)\n",
        "\n",
        "f1 = f1_score(y_test, predictions, average='micro')\n",
        "print('F1 score: %f' % f1)"
      ],
      "metadata": {
        "colab": {
          "base_uri": "https://localhost:8080/"
        },
        "id": "Kb4aMfbQzNyj",
        "outputId": "c7047a6e-253b-4e54-b77c-92ff91177821"
      },
      "execution_count": null,
      "outputs": [
        {
          "output_type": "stream",
          "name": "stdout",
          "text": [
            "Precision: 0.945467\n",
            "Recall: 0.945467\n",
            "F1 score: 0.945467\n"
          ]
        }
      ]
    }
  ],
  "metadata": {
    "colab": {
      "provenance": []
    },
    "kernelspec": {
      "display_name": "Python 3",
      "name": "python3"
    },
    "language_info": {
      "name": "python"
    },
    "widgets": {
      "application/vnd.jupyter.widget-state+json": {
        "f01f330350924c2885373174c9d0ad9a": {
          "model_module": "catboost-widget",
          "model_name": "CatboostWidgetModel",
          "model_module_version": "^1.0.0",
          "state": {
            "_dom_classes": [],
            "_model_module": "catboost-widget",
            "_model_module_version": "^1.0.0",
            "_model_name": "CatboostWidgetModel",
            "_view_count": null,
            "_view_module": "catboost-widget",
            "_view_module_version": "^1.0.0",
            "_view_name": "CatboostWidgetView",
            "data": {
              "catboost_info": {
                "path": "catboost_info",
                "name": "catboost_info",
                "content": {
                  "passed_iterations": 49,
                  "total_iterations": 50,
                  "data": {
                    "iterations": [
                      {
                        "learn": [
                          1.913273652,
                          0.4010916894
                        ],
                        "iteration": 0,
                        "passed_time": 0.3549718791,
                        "remaining_time": 17.39362208,
                        "test": [
                          1.89887879,
                          0.9274988648,
                          0.4104166667
                        ]
                      },
                      {
                        "learn": [
                          1.49573949,
                          0.5399279152
                        ],
                        "iteration": 1,
                        "passed_time": 0.6654675327,
                        "remaining_time": 15.97122079,
                        "test": [
                          1.483343446,
                          0.9665614904,
                          0.5455
                        ]
                      },
                      {
                        "learn": [
                          1.158455563,
                          0.6535344486
                        ],
                        "iteration": 2,
                        "passed_time": 0.9695108171,
                        "remaining_time": 15.1890028,
                        "test": [
                          1.158696496,
                          0.983545531,
                          0.6540833333
                        ]
                      },
                      {
                        "learn": [
                          1.026762814,
                          0.6928894352
                        ],
                        "iteration": 3,
                        "passed_time": 1.263787351,
                        "remaining_time": 14.53355453,
                        "test": [
                          1.03612375,
                          0.987651086,
                          0.6881666667
                        ]
                      },
                      {
                        "learn": [
                          0.8958062318,
                          0.7363278402
                        ],
                        "iteration": 4,
                        "passed_time": 1.567446958,
                        "remaining_time": 14.10702262,
                        "test": [
                          0.9092707085,
                          0.9908145386,
                          0.7345
                        ]
                      },
                      {
                        "learn": [
                          0.790337407,
                          0.7667868081
                        ],
                        "iteration": 5,
                        "passed_time": 1.8832296,
                        "remaining_time": 13.8103504,
                        "test": [
                          0.8067172062,
                          0.9929392792,
                          0.7631666667
                        ]
                      },
                      {
                        "learn": [
                          0.7006872633,
                          0.7959749161
                        ],
                        "iteration": 6,
                        "passed_time": 2.180323677,
                        "remaining_time": 13.39341688,
                        "test": [
                          0.7172455736,
                          0.9945121179,
                          0.7929166667
                        ]
                      },
                      {
                        "learn": [
                          0.6317730915,
                          0.8176837017
                        ],
                        "iteration": 7,
                        "passed_time": 2.481303289,
                        "remaining_time": 13.02684226,
                        "test": [
                          0.6519710718,
                          0.9955218841,
                          0.81025
                        ]
                      },
                      {
                        "learn": [
                          0.5936721584,
                          0.8310173129
                        ],
                        "iteration": 8,
                        "passed_time": 2.781523882,
                        "remaining_time": 12.67138657,
                        "test": [
                          0.6158219472,
                          0.9959679427,
                          0.8233333333
                        ]
                      },
                      {
                        "learn": [
                          0.5429269772,
                          0.845517615
                        ],
                        "iteration": 9,
                        "passed_time": 3.095669514,
                        "remaining_time": 12.38267806,
                        "test": [
                          0.5667137586,
                          0.9965228709,
                          0.8385833333
                        ]
                      },
                      {
                        "learn": [
                          0.5173442214,
                          0.8537261193
                        ],
                        "iteration": 10,
                        "passed_time": 3.387931741,
                        "remaining_time": 12.01175799,
                        "test": [
                          0.5427547911,
                          0.9967561283,
                          0.847
                        ]
                      },
                      {
                        "learn": [
                          0.4854613929,
                          0.8638929978
                        ],
                        "iteration": 11,
                        "passed_time": 3.704929694,
                        "remaining_time": 11.73227736,
                        "test": [
                          0.5117522967,
                          0.9970480733,
                          0.8585833333
                        ]
                      },
                      {
                        "learn": [
                          0.4592549898,
                          0.8723306736
                        ],
                        "iteration": 12,
                        "passed_time": 4.022574653,
                        "remaining_time": 11.44886632,
                        "test": [
                          0.4878672543,
                          0.9972464882,
                          0.8654166667
                        ]
                      },
                      {
                        "learn": [
                          0.434913691,
                          0.8807683493
                        ],
                        "iteration": 13,
                        "passed_time": 4.373007095,
                        "remaining_time": 11.24487539,
                        "test": [
                          0.4643405823,
                          0.9974440688,
                          0.8725
                        ]
                      },
                      {
                        "learn": [
                          0.4197900269,
                          0.885997625
                        ],
                        "iteration": 14,
                        "passed_time": 4.962306558,
                        "remaining_time": 11.5787153,
                        "test": [
                          0.4506231902,
                          0.9975366519,
                          0.8765833333
                        ]
                      },
                      {
                        "learn": [
                          0.4013291384,
                          0.8907268901
                        ],
                        "iteration": 15,
                        "passed_time": 5.527555873,
                        "remaining_time": 11.74605623,
                        "test": [
                          0.4346941926,
                          0.9976431933,
                          0.8816666667
                        ]
                      },
                      {
                        "learn": [
                          0.3837824847,
                          0.8960186671
                        ],
                        "iteration": 16,
                        "passed_time": 6.08638076,
                        "remaining_time": 11.81473912,
                        "test": [
                          0.4173849735,
                          0.9977780128,
                          0.889
                        ]
                      },
                      {
                        "learn": [
                          0.368296824,
                          0.9008312673
                        ],
                        "iteration": 17,
                        "passed_time": 6.741960107,
                        "remaining_time": 11.98570686,
                        "test": [
                          0.4040767704,
                          0.9978704417,
                          0.8914166667
                        ]
                      },
                      {
                        "learn": [
                          0.3584615564,
                          0.9032479843
                        ],
                        "iteration": 18,
                        "passed_time": 7.400396397,
                        "remaining_time": 12.07433096,
                        "test": [
                          0.3962516261,
                          0.9979158324,
                          0.8935833333
                        ]
                      },
                      {
                        "learn": [
                          0.3501997651,
                          0.9061022105
                        ],
                        "iteration": 19,
                        "passed_time": 8.057109385,
                        "remaining_time": 12.08566408,
                        "test": [
                          0.3904955995,
                          0.9979739196,
                          0.897
                        ]
                      },
                      {
                        "learn": [
                          0.3381152538,
                          0.910623138
                        ],
                        "iteration": 20,
                        "passed_time": 8.683500301,
                        "remaining_time": 11.99150042,
                        "test": [
                          0.3785461817,
                          0.9980660593,
                          0.8996666667
                        ]
                      },
                      {
                        "learn": [
                          0.3285872464,
                          0.9138523719
                        ],
                        "iteration": 21,
                        "passed_time": 8.990460606,
                        "remaining_time": 11.44240441,
                        "test": [
                          0.3703583128,
                          0.9981166717,
                          0.9025833333
                        ]
                      },
                      {
                        "learn": [
                          0.3211197757,
                          0.9162690889
                        ],
                        "iteration": 22,
                        "passed_time": 9.28539489,
                        "remaining_time": 10.90024618,
                        "test": [
                          0.3642678157,
                          0.998146619,
                          0.9051666667
                        ]
                      },
                      {
                        "learn": [
                          0.3135319873,
                          0.9184566345
                        ],
                        "iteration": 23,
                        "passed_time": 9.581153582,
                        "remaining_time": 10.37958305,
                        "test": [
                          0.3578386834,
                          0.9981905665,
                          0.9070833333
                        ]
                      },
                      {
                        "learn": [
                          0.3090800191,
                          0.9194566553
                        ],
                        "iteration": 24,
                        "passed_time": 9.908918001,
                        "remaining_time": 9.908918001,
                        "test": [
                          0.3538649733,
                          0.9982133841,
                          0.9079166667
                        ]
                      },
                      {
                        "learn": [
                          0.3030840986,
                          0.921185858
                        ],
                        "iteration": 25,
                        "passed_time": 10.1991666,
                        "remaining_time": 9.414615322,
                        "test": [
                          0.3488339497,
                          0.998248861,
                          0.91125
                        ]
                      },
                      {
                        "learn": [
                          0.2973267954,
                          0.9228733932
                        ],
                        "iteration": 26,
                        "passed_time": 10.49583939,
                        "remaining_time": 8.940900222,
                        "test": [
                          0.3440948988,
                          0.9982901111,
                          0.91175
                        ]
                      },
                      {
                        "learn": [
                          0.2951308739,
                          0.923790079
                        ],
                        "iteration": 27,
                        "passed_time": 10.79478295,
                        "remaining_time": 8.481615176,
                        "test": [
                          0.3426062207,
                          0.9983016897,
                          0.9128333333
                        ]
                      },
                      {
                        "learn": [
                          0.2879752613,
                          0.9263942999
                        ],
                        "iteration": 28,
                        "passed_time": 11.09711472,
                        "remaining_time": 8.035841695,
                        "test": [
                          0.3366726296,
                          0.9983410116,
                          0.91425
                        ]
                      },
                      {
                        "learn": [
                          0.2848482242,
                          0.9271651493
                        ],
                        "iteration": 29,
                        "passed_time": 11.39262727,
                        "remaining_time": 7.595084848,
                        "test": [
                          0.3347612833,
                          0.9983564331,
                          0.9148333333
                        ]
                      },
                      {
                        "learn": [
                          0.2759093126,
                          0.9299985416
                        ],
                        "iteration": 30,
                        "passed_time": 11.6867832,
                        "remaining_time": 7.162867121,
                        "test": [
                          0.3276732263,
                          0.9983960657,
                          0.916
                        ]
                      },
                      {
                        "learn": [
                          0.2731017415,
                          0.9311860664
                        ],
                        "iteration": 31,
                        "passed_time": 11.99909427,
                        "remaining_time": 6.749490525,
                        "test": [
                          0.3255499201,
                          0.9984077432,
                          0.917
                        ]
                      },
                      {
                        "learn": [
                          0.2677566216,
                          0.9334152795
                        ],
                        "iteration": 32,
                        "passed_time": 12.28859563,
                        "remaining_time": 6.330488658,
                        "test": [
                          0.3228694372,
                          0.9984163022,
                          0.9180833333
                        ]
                      },
                      {
                        "learn": [
                          0.2618843925,
                          0.934977812
                        ],
                        "iteration": 33,
                        "passed_time": 12.58569719,
                        "remaining_time": 5.922681032,
                        "test": [
                          0.3181206613,
                          0.9984463489,
                          0.9195833333
                        ]
                      },
                      {
                        "learn": [
                          0.2597597566,
                          0.9358319965
                        ],
                        "iteration": 34,
                        "passed_time": 12.89567521,
                        "remaining_time": 5.526717946,
                        "test": [
                          0.3173330354,
                          0.9984499522,
                          0.92
                        ]
                      },
                      {
                        "learn": [
                          0.2565061979,
                          0.9366445134
                        ],
                        "iteration": 35,
                        "passed_time": 13.19756085,
                        "remaining_time": 5.132384777,
                        "test": [
                          0.315293029,
                          0.9984655134,
                          0.9203333333
                        ]
                      },
                      {
                        "learn": [
                          0.2551298429,
                          0.9371445238
                        ],
                        "iteration": 36,
                        "passed_time": 13.49909884,
                        "remaining_time": 4.742926618,
                        "test": [
                          0.3146485777,
                          0.9984710688,
                          0.9206666667
                        ]
                      },
                      {
                        "learn": [
                          0.2531322663,
                          0.9378737057
                        ],
                        "iteration": 37,
                        "passed_time": 13.79218144,
                        "remaining_time": 4.355425719,
                        "test": [
                          0.3131718364,
                          0.9984803466,
                          0.92075
                        ]
                      },
                      {
                        "learn": [
                          0.2518527405,
                          0.9382695473
                        ],
                        "iteration": 38,
                        "passed_time": 14.11502478,
                        "remaining_time": 3.981160834,
                        "test": [
                          0.3125068971,
                          0.9984848737,
                          0.9209166667
                        ]
                      },
                      {
                        "learn": [
                          0.2484073748,
                          0.9392487343
                        ],
                        "iteration": 39,
                        "passed_time": 14.42256645,
                        "remaining_time": 3.605641612,
                        "test": [
                          0.3098281452,
                          0.9985009777,
                          0.9231666667
                        ]
                      },
                      {
                        "learn": [
                          0.2450624255,
                          0.9404779266
                        ],
                        "iteration": 40,
                        "passed_time": 14.71844295,
                        "remaining_time": 3.23087772,
                        "test": [
                          0.3071123027,
                          0.9985175436,
                          0.9231666667
                        ]
                      },
                      {
                        "learn": [
                          0.2433754007,
                          0.9409154357
                        ],
                        "iteration": 41,
                        "passed_time": 15.0266466,
                        "remaining_time": 2.8622184,
                        "test": [
                          0.3059608098,
                          0.998524334,
                          0.9233333333
                        ]
                      },
                      {
                        "learn": [
                          0.2403678071,
                          0.9419779579
                        ],
                        "iteration": 42,
                        "passed_time": 15.32039951,
                        "remaining_time": 2.494018524,
                        "test": [
                          0.3046378404,
                          0.9985341688,
                          0.9236666667
                        ]
                      },
                      {
                        "learn": [
                          0.2386268053,
                          0.9423112982
                        ],
                        "iteration": 43,
                        "passed_time": 15.62080545,
                        "remaining_time": 2.130109835,
                        "test": [
                          0.3039195537,
                          0.9985368609,
                          0.9245833333
                        ]
                      },
                      {
                        "learn": [
                          0.2371843371,
                          0.9431029813
                        ],
                        "iteration": 44,
                        "passed_time": 15.92328969,
                        "remaining_time": 1.76925441,
                        "test": [
                          0.303482391,
                          0.9985388165,
                          0.92425
                        ]
                      },
                      {
                        "learn": [
                          0.2350161391,
                          0.943582158
                        ],
                        "iteration": 45,
                        "passed_time": 16.24447203,
                        "remaining_time": 1.412562786,
                        "test": [
                          0.3022765788,
                          0.9985442378,
                          0.9249166667
                        ]
                      },
                      {
                        "learn": [
                          0.2314038105,
                          0.9447280152
                        ],
                        "iteration": 46,
                        "passed_time": 16.54898364,
                        "remaining_time": 1.056318105,
                        "test": [
                          0.2999486038,
                          0.9985575116,
                          0.9249166667
                        ]
                      },
                      {
                        "learn": [
                          0.2295696374,
                          0.9451238567
                        ],
                        "iteration": 47,
                        "passed_time": 16.85671735,
                        "remaining_time": 0.7023632231,
                        "test": [
                          0.2990912225,
                          0.9985641386,
                          0.9250833333
                        ]
                      },
                      {
                        "learn": [
                          0.2285843063,
                          0.9453946957
                        ],
                        "iteration": 48,
                        "passed_time": 17.17506723,
                        "remaining_time": 0.3505115762,
                        "test": [
                          0.2985263732,
                          0.9985666576,
                          0.9259166667
                        ]
                      },
                      {
                        "learn": [
                          0.2274031497,
                          0.9459155399
                        ],
                        "iteration": 49,
                        "passed_time": 17.46606916,
                        "remaining_time": 0,
                        "test": [
                          0.297733301,
                          0.998569352,
                          0.92575
                        ]
                      }
                    ],
                    "meta": {
                      "test_sets": [
                        "test"
                      ],
                      "test_metrics": [
                        {
                          "best_value": "Min",
                          "name": "MultiClass"
                        },
                        {
                          "best_value": "Max",
                          "name": "AUC:type=Mu"
                        },
                        {
                          "best_value": "Max",
                          "name": "Accuracy"
                        }
                      ],
                      "learn_metrics": [
                        {
                          "best_value": "Min",
                          "name": "MultiClass"
                        },
                        {
                          "best_value": "Max",
                          "name": "Accuracy"
                        }
                      ],
                      "launch_mode": "Train",
                      "parameters": "",
                      "iteration_count": 50,
                      "learn_sets": [
                        "learn"
                      ],
                      "name": "experiment"
                    }
                  }
                }
              }
            },
            "layout": "IPY_MODEL_92fac1dac35e4141846b734be5a0b00e"
          }
        }
      }
    }
  },
  "nbformat": 4,
  "nbformat_minor": 0
}